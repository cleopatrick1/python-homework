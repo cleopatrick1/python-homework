{
 "cells": [
  {
   "cell_type": "markdown",
   "metadata": {},
   "source": [
    "# Unit 5 - Financial Planning"
   ]
  },
  {
   "cell_type": "code",
   "execution_count": 1,
   "metadata": {},
   "outputs": [],
   "source": [
    "# Initial imports\n",
    "import os\n",
    "import requests\n",
    "import pandas as pd\n",
    "from dotenv import load_dotenv\n",
    "import alpaca_trade_api as tradeapi\n",
    "from MCForecastTools import MCSimulation\n",
    "\n",
    "%matplotlib inline"
   ]
  },
  {
   "cell_type": "code",
   "execution_count": 2,
   "metadata": {},
   "outputs": [
    {
     "data": {
      "text/plain": [
       "True"
      ]
     },
     "execution_count": 2,
     "metadata": {},
     "output_type": "execute_result"
    }
   ],
   "source": [
    "# Load .env enviroment variables\n",
    "load_dotenv()"
   ]
  },
  {
   "cell_type": "markdown",
   "metadata": {},
   "source": [
    "## Part 1 - Personal Finance Planner"
   ]
  },
  {
   "cell_type": "markdown",
   "metadata": {},
   "source": [
    "### Collect Crypto Prices Using the `requests` Library"
   ]
  },
  {
   "cell_type": "code",
   "execution_count": 3,
   "metadata": {},
   "outputs": [],
   "source": [
    "# Set current amount of crypto assets\n",
    "my_btc = 1.2\n",
    "my_eth = 5.3"
   ]
  },
  {
   "cell_type": "code",
   "execution_count": 4,
   "metadata": {},
   "outputs": [],
   "source": [
    "# Crypto API URLs\n",
    "btc_url = \"https://api.alternative.me/v2/ticker/Bitcoin/?convert=CAD\"\n",
    "eth_url = \"https://api.alternative.me/v2/ticker/Ethereum/?convert=CAD\"\n"
   ]
  },
  {
   "cell_type": "code",
   "execution_count": 5,
   "metadata": {},
   "outputs": [
    {
     "name": "stdout",
     "output_type": "stream",
     "text": [
      "The current value of your 1.2 BTC is $39622.80 USD\n",
      "The current value of your 5.3 ETH is $10599.05 USD\n",
      "The total value of the whole crypto wallet is $50221.85 USD\n"
     ]
    }
   ],
   "source": [
    "# Fetch current BTC price\n",
    "url_data = requests.get(btc_url)\n",
    "btc_data = url_data.json()\n",
    "current_btc = btc_data[\"data\"][\"1\"][\"quotes\"][\"USD\"][\"price\"]\n",
    "\n",
    "# Fetch current ETH price\n",
    "url_data = requests.get(eth_url)\n",
    "eth_data = url_data.json()\n",
    "current_eth = eth_data[\"data\"][\"1027\"][\"quotes\"][\"USD\"][\"price\"]\n",
    "\n",
    "\n",
    "# Compute current value of my crpto\n",
    "my_btc_value = my_btc * current_btc\n",
    "my_eth_value = my_eth * current_eth\n",
    "total_value_of_my_crypto = my_eth_value + my_btc_value \n",
    "\n",
    "# Print current crypto wallet balance\n",
    "print(f\"The current value of your {my_btc} BTC is ${my_btc_value:0.2f} USD\")\n",
    "print(f\"The current value of your {my_eth} ETH is ${my_eth_value:0.2f} USD\")\n",
    "print(f\"The total value of the whole crypto wallet is ${total_value_of_my_crypto:0.2f} USD\")"
   ]
  },
  {
   "cell_type": "markdown",
   "metadata": {},
   "source": [
    "### Collect Investments Data Using Alpaca: `SPY` (stocks) and `AGG` (bonds)"
   ]
  },
  {
   "cell_type": "code",
   "execution_count": 6,
   "metadata": {},
   "outputs": [],
   "source": [
    "# Set current amount of shares\n",
    "my_agg = 200\n",
    "my_spy = 50"
   ]
  },
  {
   "cell_type": "code",
   "execution_count": 7,
   "metadata": {},
   "outputs": [],
   "source": [
    "# Set Alpaca API key and secret\n",
    "alpaca_api_key = os.getenv(\"ALPACA_API_KEY\")\n",
    "alpaca_secret_key = os.getenv(\"ALPACA_SECRET_KEY\")\n",
    "\n",
    "# Create the Alpaca API object\n",
    "api = tradeapi.REST(\n",
    "    alpaca_api_key,\n",
    "    alpaca_secret_key,)"
   ]
  },
  {
   "cell_type": "code",
   "execution_count": 8,
   "metadata": {},
   "outputs": [
    {
     "data": {
      "text/html": [
       "<div>\n",
       "<style scoped>\n",
       "    .dataframe tbody tr th:only-of-type {\n",
       "        vertical-align: middle;\n",
       "    }\n",
       "\n",
       "    .dataframe tbody tr th {\n",
       "        vertical-align: top;\n",
       "    }\n",
       "\n",
       "    .dataframe thead tr th {\n",
       "        text-align: left;\n",
       "    }\n",
       "\n",
       "    .dataframe thead tr:last-of-type th {\n",
       "        text-align: right;\n",
       "    }\n",
       "</style>\n",
       "<table border=\"1\" class=\"dataframe\">\n",
       "  <thead>\n",
       "    <tr>\n",
       "      <th></th>\n",
       "      <th colspan=\"5\" halign=\"left\">AGG</th>\n",
       "      <th colspan=\"5\" halign=\"left\">SPY</th>\n",
       "    </tr>\n",
       "    <tr>\n",
       "      <th></th>\n",
       "      <th>open</th>\n",
       "      <th>high</th>\n",
       "      <th>low</th>\n",
       "      <th>close</th>\n",
       "      <th>volume</th>\n",
       "      <th>open</th>\n",
       "      <th>high</th>\n",
       "      <th>low</th>\n",
       "      <th>close</th>\n",
       "      <th>volume</th>\n",
       "    </tr>\n",
       "    <tr>\n",
       "      <th>time</th>\n",
       "      <th></th>\n",
       "      <th></th>\n",
       "      <th></th>\n",
       "      <th></th>\n",
       "      <th></th>\n",
       "      <th></th>\n",
       "      <th></th>\n",
       "      <th></th>\n",
       "      <th></th>\n",
       "      <th></th>\n",
       "    </tr>\n",
       "  </thead>\n",
       "  <tbody>\n",
       "    <tr>\n",
       "      <th>2021-01-28 00:00:00-05:00</th>\n",
       "      <td>117.4800</td>\n",
       "      <td>117.49</td>\n",
       "      <td>117.2900</td>\n",
       "      <td>117.43</td>\n",
       "      <td>4440895</td>\n",
       "      <td>376.360</td>\n",
       "      <td>381.93</td>\n",
       "      <td>375.8900</td>\n",
       "      <td>377.60</td>\n",
       "      <td>75229306</td>\n",
       "    </tr>\n",
       "    <tr>\n",
       "      <th>2021-01-29 00:00:00-05:00</th>\n",
       "      <td>117.1563</td>\n",
       "      <td>117.40</td>\n",
       "      <td>116.5625</td>\n",
       "      <td>117.32</td>\n",
       "      <td>7119889</td>\n",
       "      <td>375.630</td>\n",
       "      <td>376.67</td>\n",
       "      <td>368.2700</td>\n",
       "      <td>370.19</td>\n",
       "      <td>106397082</td>\n",
       "    </tr>\n",
       "    <tr>\n",
       "      <th>2021-02-01 00:00:00-05:00</th>\n",
       "      <td>117.2000</td>\n",
       "      <td>117.26</td>\n",
       "      <td>117.0915</td>\n",
       "      <td>117.21</td>\n",
       "      <td>5469814</td>\n",
       "      <td>373.720</td>\n",
       "      <td>377.34</td>\n",
       "      <td>370.3760</td>\n",
       "      <td>376.18</td>\n",
       "      <td>64056510</td>\n",
       "    </tr>\n",
       "    <tr>\n",
       "      <th>2021-02-02 00:00:00-05:00</th>\n",
       "      <td>116.9900</td>\n",
       "      <td>117.09</td>\n",
       "      <td>116.9700</td>\n",
       "      <td>117.05</td>\n",
       "      <td>4694446</td>\n",
       "      <td>379.650</td>\n",
       "      <td>383.22</td>\n",
       "      <td>376.3181</td>\n",
       "      <td>381.54</td>\n",
       "      <td>53979346</td>\n",
       "    </tr>\n",
       "    <tr>\n",
       "      <th>2021-02-03 00:00:00-05:00</th>\n",
       "      <td>116.9700</td>\n",
       "      <td>116.99</td>\n",
       "      <td>116.8700</td>\n",
       "      <td>116.89</td>\n",
       "      <td>5060310</td>\n",
       "      <td>382.435</td>\n",
       "      <td>383.70</td>\n",
       "      <td>380.4800</td>\n",
       "      <td>381.86</td>\n",
       "      <td>43305661</td>\n",
       "    </tr>\n",
       "  </tbody>\n",
       "</table>\n",
       "</div>"
      ],
      "text/plain": [
       "                                AGG                                     \\\n",
       "                               open    high       low   close   volume   \n",
       "time                                                                     \n",
       "2021-01-28 00:00:00-05:00  117.4800  117.49  117.2900  117.43  4440895   \n",
       "2021-01-29 00:00:00-05:00  117.1563  117.40  116.5625  117.32  7119889   \n",
       "2021-02-01 00:00:00-05:00  117.2000  117.26  117.0915  117.21  5469814   \n",
       "2021-02-02 00:00:00-05:00  116.9900  117.09  116.9700  117.05  4694446   \n",
       "2021-02-03 00:00:00-05:00  116.9700  116.99  116.8700  116.89  5060310   \n",
       "\n",
       "                               SPY                                       \n",
       "                              open    high       low   close     volume  \n",
       "time                                                                     \n",
       "2021-01-28 00:00:00-05:00  376.360  381.93  375.8900  377.60   75229306  \n",
       "2021-01-29 00:00:00-05:00  375.630  376.67  368.2700  370.19  106397082  \n",
       "2021-02-01 00:00:00-05:00  373.720  377.34  370.3760  376.18   64056510  \n",
       "2021-02-02 00:00:00-05:00  379.650  383.22  376.3181  381.54   53979346  \n",
       "2021-02-03 00:00:00-05:00  382.435  383.70  380.4800  381.86   43305661  "
      ]
     },
     "execution_count": 8,
     "metadata": {},
     "output_type": "execute_result"
    }
   ],
   "source": [
    "# Format current date as ISO format\n",
    "current_date = pd.to_datetime(\"today\")\n",
    "\n",
    "# Set the tickers\n",
    "tickers = [\"AGG\", \"SPY\"]\n",
    "\n",
    "# Set timeframe to '1D' for Alpaca API\n",
    "timeframe = \"1D\"\n",
    "\n",
    "# Get current closing prices for SPY and AGG\n",
    "investments_df = api.get_barset(\n",
    "    tickers,\n",
    "    timeframe,\n",
    "    start = \"today\",\n",
    "    end = \"today\").df\n",
    "\n",
    "# Preview DataFrame\n",
    "investments_df.head()"
   ]
  },
  {
   "cell_type": "code",
   "execution_count": 9,
   "metadata": {},
   "outputs": [
    {
     "name": "stdout",
     "output_type": "stream",
     "text": [
      "Current AGG closing price: $117.43 USD\n",
      "Current SPY closing price: $377.6 USD\n"
     ]
    }
   ],
   "source": [
    "# Pick AGG and SPY close prices using iloc \n",
    "agg_close = investments_df[\"AGG\"][\"close\"].iloc[0]\n",
    "spy_close = investments_df[\"SPY\"][\"close\"].iloc[0]\n",
    "\n",
    "# Print AGG and SPY close prices\n",
    "print(f\"Current AGG closing price: ${agg_close} USD\")\n",
    "print(f\"Current SPY closing price: ${spy_close} USD\")"
   ]
  },
  {
   "cell_type": "code",
   "execution_count": 10,
   "metadata": {},
   "outputs": [
    {
     "name": "stdout",
     "output_type": "stream",
     "text": [
      "The current value of your 50 SPY shares is $18880.00 USD\n",
      "The current value of your 200 AGG shares is $23486.00 USD\n",
      "The total value of the whole crypto wallet is $42366.00 USD\n"
     ]
    }
   ],
   "source": [
    "# Compute the current value of shares\n",
    "my_agg_value = my_agg * agg_close\n",
    "my_spy_value = my_spy * spy_close\n",
    "total_value_of_my_shares = my_spy_value + my_agg_value \n",
    "\n",
    "# Print current value of shares\n",
    "print(f\"The current value of your {my_spy} SPY shares is ${my_spy_value:0.2f} USD\")\n",
    "print(f\"The current value of your {my_agg} AGG shares is ${my_agg_value:0.2f} USD\")\n",
    "print(f\"The total value of the whole crypto wallet is ${total_value_of_my_shares:0.2f} USD\")"
   ]
  },
  {
   "cell_type": "markdown",
   "metadata": {},
   "source": [
    "### Savings Health Analysis"
   ]
  },
  {
   "cell_type": "code",
   "execution_count": 11,
   "metadata": {},
   "outputs": [
    {
     "data": {
      "text/html": [
       "<div>\n",
       "<style scoped>\n",
       "    .dataframe tbody tr th:only-of-type {\n",
       "        vertical-align: middle;\n",
       "    }\n",
       "\n",
       "    .dataframe tbody tr th {\n",
       "        vertical-align: top;\n",
       "    }\n",
       "\n",
       "    .dataframe thead th {\n",
       "        text-align: right;\n",
       "    }\n",
       "</style>\n",
       "<table border=\"1\" class=\"dataframe\">\n",
       "  <thead>\n",
       "    <tr style=\"text-align: right;\">\n",
       "      <th></th>\n",
       "      <th>Total</th>\n",
       "    </tr>\n",
       "  </thead>\n",
       "  <tbody>\n",
       "    <tr>\n",
       "      <th>Crypto</th>\n",
       "      <td>50221.846</td>\n",
       "    </tr>\n",
       "    <tr>\n",
       "      <th>Shares</th>\n",
       "      <td>42366.000</td>\n",
       "    </tr>\n",
       "  </tbody>\n",
       "</table>\n",
       "</div>"
      ],
      "text/plain": [
       "            Total\n",
       "Crypto  50221.846\n",
       "Shares  42366.000"
      ]
     },
     "metadata": {},
     "output_type": "display_data"
    }
   ],
   "source": [
    "# Set monthly household income\n",
    "monthly_income = 12000\n",
    "\n",
    "# Consolidate financial assets data\n",
    "total_assets_dict = {'Total': [total_value_of_my_crypto , total_value_of_my_shares]}\n",
    "\n",
    "# Create savings DataFrame\n",
    "savings = pd.DataFrame(total_assets_dict, index=['Crypto','Shares'])\n",
    "\n",
    "# Display savings DataFrame\n",
    "display(savings)"
   ]
  },
  {
   "cell_type": "code",
   "execution_count": 12,
   "metadata": {},
   "outputs": [
    {
     "data": {
      "text/plain": [
       "array([<AxesSubplot:ylabel='Total'>], dtype=object)"
      ]
     },
     "execution_count": 12,
     "metadata": {},
     "output_type": "execute_result"
    },
    {
     "data": {
      "image/png": "[encoded data removed]",
      "text/plain": [
       "<Figure size 432x288 with 1 Axes>"
      ]
     },
     "metadata": {},
     "output_type": "display_data"
    }
   ],
   "source": [
    "# Plot savings pie chart\n",
    "savings.plot(kind= 'pie', subplots = True)"
   ]
  },
  {
   "cell_type": "code",
   "execution_count": 13,
   "metadata": {},
   "outputs": [
    {
     "name": "stdout",
     "output_type": "stream",
     "text": [
      "Congratulations on having a substancial emergency fund!\n"
     ]
    }
   ],
   "source": [
    "# Set ideal emergency fund\n",
    "emergency_funding = monthly_income * 3\n",
    "\n",
    "# Calculate total amount of savings\n",
    "total_savings = savings.sum().item()\n",
    "\n",
    "# Validate saving health\n",
    "if total_savings > emergency_funding:\n",
    "    print(\"Congratulations on having a substancial emergency fund!\"),\n",
    "elif total_savings == emergency_funding:\n",
    "    print(\"Congratulations for having an emergency fund.\"),\n",
    "else:\n",
    "    print(f'You need ${emergency_funding - total_savings} ASAP to have enough for an emergency.')"
   ]
  },
  {
   "cell_type": "markdown",
   "metadata": {},
   "source": [
    "## Part 2 - Retirement Planning\n",
    "\n",
    "### Monte Carlo Simulation"
   ]
  },
  {
   "cell_type": "code",
   "execution_count": 14,
   "metadata": {},
   "outputs": [],
   "source": [
    "# Set start and end dates of five years back from today.\n",
    "# Sample results may vary from the solution based on the time frame chosen\n",
    "start_date = pd.Timestamp('2016-05-01', tz='America/New_York').isoformat()\n",
    "end_date = pd.Timestamp('2021-05-01', tz='America/New_York').isoformat()"
   ]
  },
  {
   "cell_type": "code",
   "execution_count": 15,
   "metadata": {},
   "outputs": [
    {
     "data": {
      "text/html": [
       "<div>\n",
       "<style scoped>\n",
       "    .dataframe tbody tr th:only-of-type {\n",
       "        vertical-align: middle;\n",
       "    }\n",
       "\n",
       "    .dataframe tbody tr th {\n",
       "        vertical-align: top;\n",
       "    }\n",
       "\n",
       "    .dataframe thead tr th {\n",
       "        text-align: left;\n",
       "    }\n",
       "\n",
       "    .dataframe thead tr:last-of-type th {\n",
       "        text-align: right;\n",
       "    }\n",
       "</style>\n",
       "<table border=\"1\" class=\"dataframe\">\n",
       "  <thead>\n",
       "    <tr>\n",
       "      <th></th>\n",
       "      <th colspan=\"5\" halign=\"left\">AGG</th>\n",
       "      <th colspan=\"5\" halign=\"left\">SPY</th>\n",
       "    </tr>\n",
       "    <tr>\n",
       "      <th></th>\n",
       "      <th>open</th>\n",
       "      <th>high</th>\n",
       "      <th>low</th>\n",
       "      <th>close</th>\n",
       "      <th>volume</th>\n",
       "      <th>open</th>\n",
       "      <th>high</th>\n",
       "      <th>low</th>\n",
       "      <th>close</th>\n",
       "      <th>volume</th>\n",
       "    </tr>\n",
       "    <tr>\n",
       "      <th>time</th>\n",
       "      <th></th>\n",
       "      <th></th>\n",
       "      <th></th>\n",
       "      <th></th>\n",
       "      <th></th>\n",
       "      <th></th>\n",
       "      <th></th>\n",
       "      <th></th>\n",
       "      <th></th>\n",
       "      <th></th>\n",
       "    </tr>\n",
       "  </thead>\n",
       "  <tbody>\n",
       "    <tr>\n",
       "      <th>2020-12-07 00:00:00-05:00</th>\n",
       "      <td>117.76</td>\n",
       "      <td>117.8262</td>\n",
       "      <td>117.6900</td>\n",
       "      <td>117.75</td>\n",
       "      <td>4689469</td>\n",
       "      <td>369.02</td>\n",
       "      <td>369.6200</td>\n",
       "      <td>367.7200</td>\n",
       "      <td>369.1200</td>\n",
       "      <td>40456544</td>\n",
       "    </tr>\n",
       "    <tr>\n",
       "      <th>2020-12-08 00:00:00-05:00</th>\n",
       "      <td>117.88</td>\n",
       "      <td>117.9597</td>\n",
       "      <td>117.7500</td>\n",
       "      <td>117.77</td>\n",
       "      <td>3587353</td>\n",
       "      <td>367.72</td>\n",
       "      <td>370.7800</td>\n",
       "      <td>367.6700</td>\n",
       "      <td>370.1599</td>\n",
       "      <td>32702217</td>\n",
       "    </tr>\n",
       "    <tr>\n",
       "      <th>2020-12-09 00:00:00-05:00</th>\n",
       "      <td>117.73</td>\n",
       "      <td>117.7800</td>\n",
       "      <td>117.5172</td>\n",
       "      <td>117.62</td>\n",
       "      <td>4720359</td>\n",
       "      <td>370.88</td>\n",
       "      <td>371.0500</td>\n",
       "      <td>365.9500</td>\n",
       "      <td>366.8900</td>\n",
       "      <td>60700254</td>\n",
       "    </tr>\n",
       "    <tr>\n",
       "      <th>2020-12-10 00:00:00-05:00</th>\n",
       "      <td>117.74</td>\n",
       "      <td>117.9300</td>\n",
       "      <td>117.6900</td>\n",
       "      <td>117.88</td>\n",
       "      <td>4694024</td>\n",
       "      <td>365.37</td>\n",
       "      <td>367.8600</td>\n",
       "      <td>364.4300</td>\n",
       "      <td>366.7200</td>\n",
       "      <td>47851654</td>\n",
       "    </tr>\n",
       "    <tr>\n",
       "      <th>2020-12-11 00:00:00-05:00</th>\n",
       "      <td>118.01</td>\n",
       "      <td>118.0900</td>\n",
       "      <td>117.9500</td>\n",
       "      <td>118.03</td>\n",
       "      <td>5537449</td>\n",
       "      <td>364.90</td>\n",
       "      <td>366.7402</td>\n",
       "      <td>363.2600</td>\n",
       "      <td>366.2800</td>\n",
       "      <td>47917103</td>\n",
       "    </tr>\n",
       "    <tr>\n",
       "      <th>...</th>\n",
       "      <td>...</td>\n",
       "      <td>...</td>\n",
       "      <td>...</td>\n",
       "      <td>...</td>\n",
       "      <td>...</td>\n",
       "      <td>...</td>\n",
       "      <td>...</td>\n",
       "      <td>...</td>\n",
       "      <td>...</td>\n",
       "      <td>...</td>\n",
       "    </tr>\n",
       "    <tr>\n",
       "      <th>2021-04-26 00:00:00-04:00</th>\n",
       "      <td>114.74</td>\n",
       "      <td>114.8015</td>\n",
       "      <td>114.6500</td>\n",
       "      <td>114.65</td>\n",
       "      <td>2867784</td>\n",
       "      <td>417.44</td>\n",
       "      <td>418.2200</td>\n",
       "      <td>416.8111</td>\n",
       "      <td>417.6400</td>\n",
       "      <td>44689009</td>\n",
       "    </tr>\n",
       "    <tr>\n",
       "      <th>2021-04-27 00:00:00-04:00</th>\n",
       "      <td>115.13</td>\n",
       "      <td>115.1300</td>\n",
       "      <td>114.3700</td>\n",
       "      <td>114.37</td>\n",
       "      <td>3421667</td>\n",
       "      <td>417.91</td>\n",
       "      <td>418.1400</td>\n",
       "      <td>416.3000</td>\n",
       "      <td>417.4800</td>\n",
       "      <td>45962655</td>\n",
       "    </tr>\n",
       "    <tr>\n",
       "      <th>2021-04-28 00:00:00-04:00</th>\n",
       "      <td>114.45</td>\n",
       "      <td>114.4685</td>\n",
       "      <td>114.2000</td>\n",
       "      <td>114.44</td>\n",
       "      <td>6185936</td>\n",
       "      <td>417.81</td>\n",
       "      <td>419.0100</td>\n",
       "      <td>416.9000</td>\n",
       "      <td>417.3500</td>\n",
       "      <td>45533863</td>\n",
       "    </tr>\n",
       "    <tr>\n",
       "      <th>2021-04-29 00:00:00-04:00</th>\n",
       "      <td>114.14</td>\n",
       "      <td>114.3700</td>\n",
       "      <td>114.0900</td>\n",
       "      <td>114.37</td>\n",
       "      <td>5796983</td>\n",
       "      <td>420.33</td>\n",
       "      <td>420.7200</td>\n",
       "      <td>416.4400</td>\n",
       "      <td>419.9800</td>\n",
       "      <td>70595229</td>\n",
       "    </tr>\n",
       "    <tr>\n",
       "      <th>2021-04-30 00:00:00-04:00</th>\n",
       "      <td>114.41</td>\n",
       "      <td>114.5150</td>\n",
       "      <td>114.3300</td>\n",
       "      <td>114.50</td>\n",
       "      <td>5160765</td>\n",
       "      <td>417.63</td>\n",
       "      <td>418.5400</td>\n",
       "      <td>416.3400</td>\n",
       "      <td>417.3000</td>\n",
       "      <td>73129109</td>\n",
       "    </tr>\n",
       "  </tbody>\n",
       "</table>\n",
       "<p>100 rows × 10 columns</p>\n",
       "</div>"
      ],
      "text/plain": [
       "                              AGG                                       \\\n",
       "                             open      high       low   close   volume   \n",
       "time                                                                     \n",
       "2020-12-07 00:00:00-05:00  117.76  117.8262  117.6900  117.75  4689469   \n",
       "2020-12-08 00:00:00-05:00  117.88  117.9597  117.7500  117.77  3587353   \n",
       "2020-12-09 00:00:00-05:00  117.73  117.7800  117.5172  117.62  4720359   \n",
       "2020-12-10 00:00:00-05:00  117.74  117.9300  117.6900  117.88  4694024   \n",
       "2020-12-11 00:00:00-05:00  118.01  118.0900  117.9500  118.03  5537449   \n",
       "...                           ...       ...       ...     ...      ...   \n",
       "2021-04-26 00:00:00-04:00  114.74  114.8015  114.6500  114.65  2867784   \n",
       "2021-04-27 00:00:00-04:00  115.13  115.1300  114.3700  114.37  3421667   \n",
       "2021-04-28 00:00:00-04:00  114.45  114.4685  114.2000  114.44  6185936   \n",
       "2021-04-29 00:00:00-04:00  114.14  114.3700  114.0900  114.37  5796983   \n",
       "2021-04-30 00:00:00-04:00  114.41  114.5150  114.3300  114.50  5160765   \n",
       "\n",
       "                              SPY                                          \n",
       "                             open      high       low     close    volume  \n",
       "time                                                                       \n",
       "2020-12-07 00:00:00-05:00  369.02  369.6200  367.7200  369.1200  40456544  \n",
       "2020-12-08 00:00:00-05:00  367.72  370.7800  367.6700  370.1599  32702217  \n",
       "2020-12-09 00:00:00-05:00  370.88  371.0500  365.9500  366.8900  60700254  \n",
       "2020-12-10 00:00:00-05:00  365.37  367.8600  364.4300  366.7200  47851654  \n",
       "2020-12-11 00:00:00-05:00  364.90  366.7402  363.2600  366.2800  47917103  \n",
       "...                           ...       ...       ...       ...       ...  \n",
       "2021-04-26 00:00:00-04:00  417.44  418.2200  416.8111  417.6400  44689009  \n",
       "2021-04-27 00:00:00-04:00  417.91  418.1400  416.3000  417.4800  45962655  \n",
       "2021-04-28 00:00:00-04:00  417.81  419.0100  416.9000  417.3500  45533863  \n",
       "2021-04-29 00:00:00-04:00  420.33  420.7200  416.4400  419.9800  70595229  \n",
       "2021-04-30 00:00:00-04:00  417.63  418.5400  416.3400  417.3000  73129109  \n",
       "\n",
       "[100 rows x 10 columns]"
      ]
     },
     "execution_count": 15,
     "metadata": {},
     "output_type": "execute_result"
    }
   ],
   "source": [
    "# Get 5 years' worth of historical data for SPY and AGG\n",
    "# (use a limit=1000 parameter to call the most recent 1000 days of data)\n",
    "# YOUR CODE HERE!\n",
    "stock_data = api.get_barset(\n",
    "    tickers,\n",
    "    timeframe,\n",
    "    start = start_date,\n",
    "    end = end_date).df\n",
    "\n",
    "# Display sample data\n",
    "stock_data.head(1000)"
   ]
  },
  {
   "cell_type": "code",
   "execution_count": 16,
   "metadata": {},
   "outputs": [],
   "source": [
    "# Configuring a Monte Carlo simulation to forecast 30 years cumulative returns\n",
    "thirty_year_mcs = MCSimulation(\n",
    "    portfolio_data = stock_data,\n",
    "    weights = [.40,.60],\n",
    "    num_trading_days = 252*30,\n",
    "    num_simulation = 500)"
   ]
  },
  {
   "cell_type": "code",
   "execution_count": 17,
   "metadata": {},
   "outputs": [
    {
     "data": {
      "text/html": [
       "<div>\n",
       "<style scoped>\n",
       "    .dataframe tbody tr th:only-of-type {\n",
       "        vertical-align: middle;\n",
       "    }\n",
       "\n",
       "    .dataframe tbody tr th {\n",
       "        vertical-align: top;\n",
       "    }\n",
       "\n",
       "    .dataframe thead tr th {\n",
       "        text-align: left;\n",
       "    }\n",
       "\n",
       "    .dataframe thead tr:last-of-type th {\n",
       "        text-align: right;\n",
       "    }\n",
       "</style>\n",
       "<table border=\"1\" class=\"dataframe\">\n",
       "  <thead>\n",
       "    <tr>\n",
       "      <th></th>\n",
       "      <th colspan=\"6\" halign=\"left\">AGG</th>\n",
       "      <th colspan=\"6\" halign=\"left\">SPY</th>\n",
       "    </tr>\n",
       "    <tr>\n",
       "      <th></th>\n",
       "      <th>open</th>\n",
       "      <th>high</th>\n",
       "      <th>low</th>\n",
       "      <th>close</th>\n",
       "      <th>volume</th>\n",
       "      <th>daily_return</th>\n",
       "      <th>open</th>\n",
       "      <th>high</th>\n",
       "      <th>low</th>\n",
       "      <th>close</th>\n",
       "      <th>volume</th>\n",
       "      <th>daily_return</th>\n",
       "    </tr>\n",
       "    <tr>\n",
       "      <th>time</th>\n",
       "      <th></th>\n",
       "      <th></th>\n",
       "      <th></th>\n",
       "      <th></th>\n",
       "      <th></th>\n",
       "      <th></th>\n",
       "      <th></th>\n",
       "      <th></th>\n",
       "      <th></th>\n",
       "      <th></th>\n",
       "      <th></th>\n",
       "      <th></th>\n",
       "    </tr>\n",
       "  </thead>\n",
       "  <tbody>\n",
       "    <tr>\n",
       "      <th>2020-12-07 00:00:00-05:00</th>\n",
       "      <td>117.76</td>\n",
       "      <td>117.8262</td>\n",
       "      <td>117.6900</td>\n",
       "      <td>117.75</td>\n",
       "      <td>4689469</td>\n",
       "      <td>NaN</td>\n",
       "      <td>369.02</td>\n",
       "      <td>369.6200</td>\n",
       "      <td>367.7200</td>\n",
       "      <td>369.1200</td>\n",
       "      <td>40456544</td>\n",
       "      <td>NaN</td>\n",
       "    </tr>\n",
       "    <tr>\n",
       "      <th>2020-12-08 00:00:00-05:00</th>\n",
       "      <td>117.88</td>\n",
       "      <td>117.9597</td>\n",
       "      <td>117.7500</td>\n",
       "      <td>117.77</td>\n",
       "      <td>3587353</td>\n",
       "      <td>0.000170</td>\n",
       "      <td>367.72</td>\n",
       "      <td>370.7800</td>\n",
       "      <td>367.6700</td>\n",
       "      <td>370.1599</td>\n",
       "      <td>32702217</td>\n",
       "      <td>0.002817</td>\n",
       "    </tr>\n",
       "    <tr>\n",
       "      <th>2020-12-09 00:00:00-05:00</th>\n",
       "      <td>117.73</td>\n",
       "      <td>117.7800</td>\n",
       "      <td>117.5172</td>\n",
       "      <td>117.62</td>\n",
       "      <td>4720359</td>\n",
       "      <td>-0.001274</td>\n",
       "      <td>370.88</td>\n",
       "      <td>371.0500</td>\n",
       "      <td>365.9500</td>\n",
       "      <td>366.8900</td>\n",
       "      <td>60700254</td>\n",
       "      <td>-0.008834</td>\n",
       "    </tr>\n",
       "    <tr>\n",
       "      <th>2020-12-10 00:00:00-05:00</th>\n",
       "      <td>117.74</td>\n",
       "      <td>117.9300</td>\n",
       "      <td>117.6900</td>\n",
       "      <td>117.88</td>\n",
       "      <td>4694024</td>\n",
       "      <td>0.002211</td>\n",
       "      <td>365.37</td>\n",
       "      <td>367.8600</td>\n",
       "      <td>364.4300</td>\n",
       "      <td>366.7200</td>\n",
       "      <td>47851654</td>\n",
       "      <td>-0.000463</td>\n",
       "    </tr>\n",
       "    <tr>\n",
       "      <th>2020-12-11 00:00:00-05:00</th>\n",
       "      <td>118.01</td>\n",
       "      <td>118.0900</td>\n",
       "      <td>117.9500</td>\n",
       "      <td>118.03</td>\n",
       "      <td>5537449</td>\n",
       "      <td>0.001272</td>\n",
       "      <td>364.90</td>\n",
       "      <td>366.7402</td>\n",
       "      <td>363.2600</td>\n",
       "      <td>366.2800</td>\n",
       "      <td>47917103</td>\n",
       "      <td>-0.001200</td>\n",
       "    </tr>\n",
       "    <tr>\n",
       "      <th>...</th>\n",
       "      <td>...</td>\n",
       "      <td>...</td>\n",
       "      <td>...</td>\n",
       "      <td>...</td>\n",
       "      <td>...</td>\n",
       "      <td>...</td>\n",
       "      <td>...</td>\n",
       "      <td>...</td>\n",
       "      <td>...</td>\n",
       "      <td>...</td>\n",
       "      <td>...</td>\n",
       "      <td>...</td>\n",
       "    </tr>\n",
       "    <tr>\n",
       "      <th>2021-04-26 00:00:00-04:00</th>\n",
       "      <td>114.74</td>\n",
       "      <td>114.8015</td>\n",
       "      <td>114.6500</td>\n",
       "      <td>114.65</td>\n",
       "      <td>2867784</td>\n",
       "      <td>-0.000871</td>\n",
       "      <td>417.44</td>\n",
       "      <td>418.2200</td>\n",
       "      <td>416.8111</td>\n",
       "      <td>417.6400</td>\n",
       "      <td>44689009</td>\n",
       "      <td>0.002208</td>\n",
       "    </tr>\n",
       "    <tr>\n",
       "      <th>2021-04-27 00:00:00-04:00</th>\n",
       "      <td>115.13</td>\n",
       "      <td>115.1300</td>\n",
       "      <td>114.3700</td>\n",
       "      <td>114.37</td>\n",
       "      <td>3421667</td>\n",
       "      <td>-0.002442</td>\n",
       "      <td>417.91</td>\n",
       "      <td>418.1400</td>\n",
       "      <td>416.3000</td>\n",
       "      <td>417.4800</td>\n",
       "      <td>45962655</td>\n",
       "      <td>-0.000383</td>\n",
       "    </tr>\n",
       "    <tr>\n",
       "      <th>2021-04-28 00:00:00-04:00</th>\n",
       "      <td>114.45</td>\n",
       "      <td>114.4685</td>\n",
       "      <td>114.2000</td>\n",
       "      <td>114.44</td>\n",
       "      <td>6185936</td>\n",
       "      <td>0.000612</td>\n",
       "      <td>417.81</td>\n",
       "      <td>419.0100</td>\n",
       "      <td>416.9000</td>\n",
       "      <td>417.3500</td>\n",
       "      <td>45533863</td>\n",
       "      <td>-0.000311</td>\n",
       "    </tr>\n",
       "    <tr>\n",
       "      <th>2021-04-29 00:00:00-04:00</th>\n",
       "      <td>114.14</td>\n",
       "      <td>114.3700</td>\n",
       "      <td>114.0900</td>\n",
       "      <td>114.37</td>\n",
       "      <td>5796983</td>\n",
       "      <td>-0.000612</td>\n",
       "      <td>420.33</td>\n",
       "      <td>420.7200</td>\n",
       "      <td>416.4400</td>\n",
       "      <td>419.9800</td>\n",
       "      <td>70595229</td>\n",
       "      <td>0.006302</td>\n",
       "    </tr>\n",
       "    <tr>\n",
       "      <th>2021-04-30 00:00:00-04:00</th>\n",
       "      <td>114.41</td>\n",
       "      <td>114.5150</td>\n",
       "      <td>114.3300</td>\n",
       "      <td>114.50</td>\n",
       "      <td>5160765</td>\n",
       "      <td>0.001137</td>\n",
       "      <td>417.63</td>\n",
       "      <td>418.5400</td>\n",
       "      <td>416.3400</td>\n",
       "      <td>417.3000</td>\n",
       "      <td>73129109</td>\n",
       "      <td>-0.006381</td>\n",
       "    </tr>\n",
       "  </tbody>\n",
       "</table>\n",
       "<p>100 rows × 12 columns</p>\n",
       "</div>"
      ],
      "text/plain": [
       "                              AGG                                       \\\n",
       "                             open      high       low   close   volume   \n",
       "time                                                                     \n",
       "2020-12-07 00:00:00-05:00  117.76  117.8262  117.6900  117.75  4689469   \n",
       "2020-12-08 00:00:00-05:00  117.88  117.9597  117.7500  117.77  3587353   \n",
       "2020-12-09 00:00:00-05:00  117.73  117.7800  117.5172  117.62  4720359   \n",
       "2020-12-10 00:00:00-05:00  117.74  117.9300  117.6900  117.88  4694024   \n",
       "2020-12-11 00:00:00-05:00  118.01  118.0900  117.9500  118.03  5537449   \n",
       "...                           ...       ...       ...     ...      ...   \n",
       "2021-04-26 00:00:00-04:00  114.74  114.8015  114.6500  114.65  2867784   \n",
       "2021-04-27 00:00:00-04:00  115.13  115.1300  114.3700  114.37  3421667   \n",
       "2021-04-28 00:00:00-04:00  114.45  114.4685  114.2000  114.44  6185936   \n",
       "2021-04-29 00:00:00-04:00  114.14  114.3700  114.0900  114.37  5796983   \n",
       "2021-04-30 00:00:00-04:00  114.41  114.5150  114.3300  114.50  5160765   \n",
       "\n",
       "                                           SPY                                \\\n",
       "                          daily_return    open      high       low     close   \n",
       "time                                                                           \n",
       "2020-12-07 00:00:00-05:00          NaN  369.02  369.6200  367.7200  369.1200   \n",
       "2020-12-08 00:00:00-05:00     0.000170  367.72  370.7800  367.6700  370.1599   \n",
       "2020-12-09 00:00:00-05:00    -0.001274  370.88  371.0500  365.9500  366.8900   \n",
       "2020-12-10 00:00:00-05:00     0.002211  365.37  367.8600  364.4300  366.7200   \n",
       "2020-12-11 00:00:00-05:00     0.001272  364.90  366.7402  363.2600  366.2800   \n",
       "...                                ...     ...       ...       ...       ...   \n",
       "2021-04-26 00:00:00-04:00    -0.000871  417.44  418.2200  416.8111  417.6400   \n",
       "2021-04-27 00:00:00-04:00    -0.002442  417.91  418.1400  416.3000  417.4800   \n",
       "2021-04-28 00:00:00-04:00     0.000612  417.81  419.0100  416.9000  417.3500   \n",
       "2021-04-29 00:00:00-04:00    -0.000612  420.33  420.7200  416.4400  419.9800   \n",
       "2021-04-30 00:00:00-04:00     0.001137  417.63  418.5400  416.3400  417.3000   \n",
       "\n",
       "                                                  \n",
       "                             volume daily_return  \n",
       "time                                              \n",
       "2020-12-07 00:00:00-05:00  40456544          NaN  \n",
       "2020-12-08 00:00:00-05:00  32702217     0.002817  \n",
       "2020-12-09 00:00:00-05:00  60700254    -0.008834  \n",
       "2020-12-10 00:00:00-05:00  47851654    -0.000463  \n",
       "2020-12-11 00:00:00-05:00  47917103    -0.001200  \n",
       "...                             ...          ...  \n",
       "2021-04-26 00:00:00-04:00  44689009     0.002208  \n",
       "2021-04-27 00:00:00-04:00  45962655    -0.000383  \n",
       "2021-04-28 00:00:00-04:00  45533863    -0.000311  \n",
       "2021-04-29 00:00:00-04:00  70595229     0.006302  \n",
       "2021-04-30 00:00:00-04:00  73129109    -0.006381  \n",
       "\n",
       "[100 rows x 12 columns]"
      ]
     },
     "execution_count": 17,
     "metadata": {},
     "output_type": "execute_result"
    }
   ],
   "source": [
    "# Printing the simulation input data\n",
    "thirty_year_mcs.portfolio_data"
   ]
  },
  {
   "cell_type": "code",
   "execution_count": null,
   "metadata": {},
   "outputs": [
    {
     "name": "stdout",
     "output_type": "stream",
     "text": [
      "Running Monte Carlo simulation number 0.\n",
      "Running Monte Carlo simulation number 10.\n",
      "Running Monte Carlo simulation number 20.\n",
      "Running Monte Carlo simulation number 30.\n",
      "Running Monte Carlo simulation number 40.\n",
      "Running Monte Carlo simulation number 50.\n",
      "Running Monte Carlo simulation number 60.\n",
      "Running Monte Carlo simulation number 70.\n",
      "Running Monte Carlo simulation number 80.\n",
      "Running Monte Carlo simulation number 90.\n",
      "Running Monte Carlo simulation number 100.\n",
      "Running Monte Carlo simulation number 110.\n",
      "Running Monte Carlo simulation number 120.\n",
      "Running Monte Carlo simulation number 130.\n",
      "Running Monte Carlo simulation number 140.\n",
      "Running Monte Carlo simulation number 150.\n",
      "Running Monte Carlo simulation number 160.\n",
      "Running Monte Carlo simulation number 170.\n",
      "Running Monte Carlo simulation number 180.\n",
      "Running Monte Carlo simulation number 190.\n",
      "Running Monte Carlo simulation number 200.\n",
      "Running Monte Carlo simulation number 210.\n",
      "Running Monte Carlo simulation number 220.\n",
      "Running Monte Carlo simulation number 230.\n",
      "Running Monte Carlo simulation number 240.\n",
      "Running Monte Carlo simulation number 250.\n",
      "Running Monte Carlo simulation number 260.\n",
      "Running Monte Carlo simulation number 270.\n",
      "Running Monte Carlo simulation number 280.\n",
      "Running Monte Carlo simulation number 290.\n",
      "Running Monte Carlo simulation number 300.\n",
      "Running Monte Carlo simulation number 310.\n",
      "Running Monte Carlo simulation number 320.\n",
      "Running Monte Carlo simulation number 330.\n",
      "Running Monte Carlo simulation number 340.\n",
      "Running Monte Carlo simulation number 350.\n",
      "Running Monte Carlo simulation number 360.\n",
      "Running Monte Carlo simulation number 370.\n",
      "Running Monte Carlo simulation number 380.\n",
      "Running Monte Carlo simulation number 390.\n"
     ]
    }
   ],
   "source": [
    "# Running a Monte Carlo simulation to forecast 30 years cumulative returns\n",
    "thirty_year_mcs.calc_cumulative_return()"
   ]
  },
  {
   "cell_type": "code",
   "execution_count": null,
   "metadata": {},
   "outputs": [],
   "source": [
    "# Plot simulation outcomes\n",
    "thirty_year_mcs.plot_simulation()"
   ]
  },
  {
   "cell_type": "code",
   "execution_count": null,
   "metadata": {},
   "outputs": [],
   "source": [
    "# Plot probability distribution and confidence intervals\n",
    "thirty_year_mcs.plot_distribution()"
   ]
  },
  {
   "cell_type": "markdown",
   "metadata": {},
   "source": [
    "### Retirement Analysis"
   ]
  },
  {
   "cell_type": "code",
   "execution_count": null,
   "metadata": {},
   "outputs": [],
   "source": [
    "# Fetch summary statistics from the Monte Carlo simulation results\n",
    "table = thirty_year_mcs.summarize_cumulative_return()\n",
    "\n",
    "# Print summary statistics\n",
    "print(table)"
   ]
  },
  {
   "cell_type": "markdown",
   "metadata": {},
   "source": [
    "### Calculate the expected portfolio return at the `95%` lower and upper confidence intervals based on a `$20,000` initial investment."
   ]
  },
  {
   "cell_type": "code",
   "execution_count": null,
   "metadata": {},
   "outputs": [],
   "source": [
    "# Set initial investment\n",
    "initial_investment = 20000\n",
    "\n",
    "# Use the lower and upper `95%` confidence intervals to calculate the range of the possible outcomes of our $20,000\n",
    "ci_lower = round(table [8] * initial_investment, 2)\n",
    "ci_upper = round(table [9] * initial_investment, 2)\n",
    "\n",
    "# Print results\n",
    "print(f\"There is a 95% chance that an initial investment of ${initial_investment} in the portfolio\"\n",
    "      f\" over the next 30 years will end within in the range of\"\n",
    "      f\" ${ci_lower} and ${ci_upper}\")"
   ]
  },
  {
   "cell_type": "markdown",
   "metadata": {},
   "source": [
    "### Calculate the expected portfolio return at the `95%` lower and upper confidence intervals based on a `50%` increase in the initial investment."
   ]
  },
  {
   "cell_type": "code",
   "execution_count": null,
   "metadata": {},
   "outputs": [],
   "source": [
    "# Set initial investment\n",
    "initial_investment = 20000 * 1.5\n",
    "\n",
    "# Use the lower and upper `95%` confidence intervals to calculate the range of the possible outcomes of our $30,000\n",
    "ci_lower = round(table [8] * initial_investment, 2)\n",
    "ci_upper = round(table [9] * initial_investment, 2)\n",
    "# Print results\n",
    "print(f\"There is a 95% chance that an initial investment of ${initial_investment} in the portfolio\"\n",
    "      f\" over the next 30 years will end within in the range of\"\n",
    "      f\" ${ci_lower} and ${ci_upper}\")"
   ]
  },
  {
   "cell_type": "markdown",
   "metadata": {},
   "source": [
    "## Optional Challenge - Early Retirement\n",
    "\n",
    "\n",
    "### Five Years Retirement Option"
   ]
  },
  {
   "cell_type": "code",
   "execution_count": null,
   "metadata": {},
   "outputs": [],
   "source": [
    "# Configuring a Monte Carlo simulation to forecast 5 years cumulative returns\n",
    "# YOUR CODE HERE!"
   ]
  },
  {
   "cell_type": "code",
   "execution_count": null,
   "metadata": {},
   "outputs": [],
   "source": [
    "# Running a Monte Carlo simulation to forecast 5 years cumulative returns\n",
    "# YOUR CODE HERE!"
   ]
  },
  {
   "cell_type": "code",
   "execution_count": null,
   "metadata": {},
   "outputs": [],
   "source": [
    "# Plot simulation outcomes\n",
    "# YOUR CODE HERE!"
   ]
  },
  {
   "cell_type": "code",
   "execution_count": null,
   "metadata": {},
   "outputs": [],
   "source": [
    "# Plot probability distribution and confidence intervals\n",
    "# YOUR CODE HERE!"
   ]
  },
  {
   "cell_type": "code",
   "execution_count": null,
   "metadata": {},
   "outputs": [],
   "source": [
    "# Fetch summary statistics from the Monte Carlo simulation results\n",
    "# YOUR CODE HERE!\n",
    "\n",
    "# Print summary statistics\n",
    "# YOUR CODE HERE!"
   ]
  },
  {
   "cell_type": "code",
   "execution_count": null,
   "metadata": {},
   "outputs": [],
   "source": [
    "# Set initial investment\n",
    "# YOUR CODE HERE!\n",
    "\n",
    "# Use the lower and upper `95%` confidence intervals to calculate the range of the possible outcomes of our $60,000\n",
    "# YOUR CODE HERE!\n",
    "\n",
    "# Print results\n",
    "print(f\"There is a 95% chance that an initial investment of ${initial_investment} in the portfolio\"\n",
    "      f\" over the next 5 years will end within in the range of\"\n",
    "      f\" ${ci_lower_five} and ${ci_upper_five}\")"
   ]
  },
  {
   "cell_type": "markdown",
   "metadata": {},
   "source": [
    "### Ten Years Retirement Option"
   ]
  },
  {
   "cell_type": "code",
   "execution_count": null,
   "metadata": {},
   "outputs": [],
   "source": [
    "# Configuring a Monte Carlo simulation to forecast 10 years cumulative returns\n",
    "# YOUR CODE HERE!"
   ]
  },
  {
   "cell_type": "code",
   "execution_count": null,
   "metadata": {},
   "outputs": [],
   "source": [
    "# Running a Monte Carlo simulation to forecast 10 years cumulative returns\n",
    "# YOUR CODE HERE!"
   ]
  },
  {
   "cell_type": "code",
   "execution_count": null,
   "metadata": {},
   "outputs": [],
   "source": [
    "# Plot simulation outcomes\n",
    "# YOUR CODE HERE!"
   ]
  },
  {
   "cell_type": "code",
   "execution_count": null,
   "metadata": {},
   "outputs": [],
   "source": [
    "# Plot probability distribution and confidence intervals\n",
    "# YOUR CODE HERE!"
   ]
  },
  {
   "cell_type": "code",
   "execution_count": null,
   "metadata": {},
   "outputs": [],
   "source": [
    "# Fetch summary statistics from the Monte Carlo simulation results\n",
    "# YOUR CODE HERE!\n",
    "\n",
    "# Print summary statistics\n",
    "# YOUR CODE HERE!"
   ]
  },
  {
   "cell_type": "code",
   "execution_count": null,
   "metadata": {},
   "outputs": [],
   "source": [
    "# Set initial investment\n",
    "# YOUR CODE HERE!\n",
    "\n",
    "# Use the lower and upper `95%` confidence intervals to calculate the range of the possible outcomes of our $60,000\n",
    "# YOUR CODE HERE!\n",
    "\n",
    "# Print results\n",
    "print(f\"There is a 95% chance that an initial investment of ${initial_investment} in the portfolio\"\n",
    "      f\" over the next 10 years will end within in the range of\"\n",
    "      f\" ${ci_lower_ten} and ${ci_upper_ten}\")"
   ]
  },
  {
   "cell_type": "code",
   "execution_count": null,
   "metadata": {},
   "outputs": [],
   "source": []
  },
  {
   "cell_type": "code",
   "execution_count": null,
   "metadata": {},
   "outputs": [],
   "source": []
  },
  {
   "cell_type": "code",
   "execution_count": null,
   "metadata": {},
   "outputs": [],
   "source": []
  },
  {
   "cell_type": "code",
   "execution_count": null,
   "metadata": {},
   "outputs": [],
   "source": []
  },
  {
   "cell_type": "code",
   "execution_count": null,
   "metadata": {},
   "outputs": [],
   "source": []
  },
  {
   "cell_type": "code",
   "execution_count": null,
   "metadata": {},
   "outputs": [],
   "source": []
  },
  {
   "cell_type": "code",
   "execution_count": null,
   "metadata": {},
   "outputs": [],
   "source": []
  },
  {
   "cell_type": "code",
   "execution_count": null,
   "metadata": {},
   "outputs": [],
   "source": []
  },
  {
   "cell_type": "code",
   "execution_count": null,
   "metadata": {},
   "outputs": [],
   "source": []
  },
  {
   "cell_type": "code",
   "execution_count": null,
   "metadata": {},
   "outputs": [],
   "source": []
  }
 ],
 "metadata": {
  "kernelspec": {
   "display_name": "Python [conda env:root]",
   "language": "python",
   "name": "conda-root-py"
  },
  "language_info": {
   "codemirror_mode": {
    "name": "ipython",
    "version": 3
   },
   "file_extension": ".py",
   "mimetype": "text/x-python",
   "name": "python",
   "nbconvert_exporter": "python",
   "pygments_lexer": "ipython3",
   "version": "3.8.8"
  },
  "nteract": {
   "version": "0.28.0"
  }
 },
 "nbformat": 4,
 "nbformat_minor": 4
}
